{
 "cells": [
  {
   "cell_type": "markdown",
   "metadata": {},
   "source": [
    "# Introduction\n",
    "\n",
    "This is the analysis of gut intestinal stem cell data as presented in Böttcher et al. We use in total **75,012** cells from **14 samples** in **6 conditions** (2 replicates in each mutant, 3 replicates in each control and 1 sample FVR only controls):\n",
    "\n",
    "* Control (whole crypt)\n",
    "* Control (FVR enriched)\n",
    "* Control (FVR only)\n",
    "* Mutant (Fltp deficient, whole crypt)\n",
    "* Mutant (Fltp deficient, FVR enriched)\n",
    "* Control (High fat diet project)\n",
    "\n",
    "In this notebook, we load the raw data and filter them according to the thresholds defined by CellRanger.\n",
    "\n",
    "We filter cells by\n",
    "\n",
    "* number of reads\n",
    "* number of detected genes\n",
    "* fraction of mitochondrial reads (< 10%) \n",
    "\n",
    "\n",
    "## Tasks in this notebook\n",
    "\n",
    "In order to keep the notebook structure short and well-arranged, we have split the gut intestinal stem cell analysis into several parts:\n",
    "\n",
    "1. Basic pre-processing and cell filtering\n",
    "2. Preparation of Batch effect correction\n",
    "3. Data analysis with Graph abstraction\n",
    "\n",
    "This notebook covers **part 1**."
   ]
  },
  {
   "cell_type": "code",
   "execution_count": 1,
   "metadata": {
    "jupyter": {
     "outputs_hidden": false
    }
   },
   "outputs": [
    {
     "name": "stdout",
     "output_type": "stream",
     "text": [
      "Running Scanpy 1.3.1 on 2021-01-22 09:55.\n"
     ]
    }
   ],
   "source": [
    "import numpy as np\n",
    "import pandas as pd\n",
    "import matplotlib.pyplot as pl\n",
    "import scanpy.api as sc\n",
    "import matplotlib as mpl\n",
    "from matplotlib import rcParams\n",
    "import scipy as sci\n",
    "\n",
    "\n",
    "sc.settings.verbosity = 3\n",
    "sc.logging.print_version_and_date()"
   ]
  },
  {
   "cell_type": "code",
   "execution_count": 2,
   "metadata": {},
   "outputs": [],
   "source": [
    "sc.settings.writedir='./../data/'"
   ]
  },
  {
   "cell_type": "code",
   "execution_count": 3,
   "metadata": {},
   "outputs": [],
   "source": [
    "def qc_metrics(adata):\n",
    "    \n",
    "    # mean expression per gene\n",
    "    adata.var[\"mean\"] = adata.X.mean(axis=0).T\n",
    "    # fraction of 0s per genes\n",
    "    adata.var[\"frac_zeros\"] = (adata.X.shape[0] - (adata.X > 0).sum(axis=0).T) / adata.X.shape[0]\n",
    "    \n",
    "    # for each cell compute fraction of counts in mito genes vs. all genes\n",
    "    mito_genes = [name for name in adata.var_names if name.startswith('mt-')]\n",
    "    mt_gene_index = np.where(mito_genes)[0]\n",
    "    adata.obs['percent_mito'] = adata[:, mt_gene_index].X.sum(axis=1) / adata.X.sum(axis=1)\n",
    "    # for each cell compute fraction of counts in ribosomal genes vs. all genes\n",
    "    ribo_genes = [name for name in adata.var_names if name.startswith('Rp')]\n",
    "    ribo_gene_index = np.where(ribo_genes)[0]\n",
    "    adata.obs['percent_ribo'] = adata[:, ribo_gene_index].X.sum(axis=1) / adata.X.sum(axis=1)\n",
    "\n",
    "    # total counts and genes per cell\n",
    "    adata.obs['n_counts'] = np.sum(adata.X, axis=1).A1\n",
    "    adata.obs['n_genes'] = np.sum(adata.X > 0, axis=1).A1\n",
    "    print(len(adata.obs_names))\n",
    "    \n",
    "    return(adata)"
   ]
  },
  {
   "cell_type": "code",
   "execution_count": 7,
   "metadata": {},
   "outputs": [],
   "source": [
    "def cell_filter(adata, countmin):\n",
    "    #filter cells with > countmin number of counts and >1000 genes. Countmin is defined based on the CellRanger output. \n",
    "    \n",
    "    # get cell barcode indices\n",
    "    res_cells = sc.pp.filter_cells(adata.X,min_counts=countmin,copy=True)\n",
    "    res_genes = sc.pp.filter_cells(adata.X,min_genes=1000,copy=True)\n",
    "    res_all = np.array([any(tup) for tup in zip(res_cells[0], res_genes[0])])\n",
    "    \n",
    "    # filter\n",
    "    adata_filt=adata.copy()[res_all,:]\n",
    "    print(adata_filt.n_obs)\n",
    "    return(adata_filt)"
   ]
  },
  {
   "cell_type": "markdown",
   "metadata": {},
   "source": [
    "# WT, FVR and mutant mice"
   ]
  },
  {
   "cell_type": "code",
   "execution_count": 9,
   "metadata": {},
   "outputs": [
    {
     "name": "stdout",
     "output_type": "stream",
     "text": [
      "... reading from cache file ./cache/filtered_data-Control_1-matrix.h5ad\n",
      "Variable names are not unique. To make them unique, call `.var_names_make_unique`.\n",
      "... reading from cache file ./cache/raw_data-Control_1-matrix.h5ad\n",
      "Variable names are not unique. To make them unique, call `.var_names_make_unique`.\n"
     ]
    }
   ],
   "source": [
    "# filtered data (cell barcodes defined by Cellranger)\n",
    "filename_data_Control_1 = './../filtered_data/Control_1/matrix.mtx'\n",
    "filename_genes_Control_1 = './../filtered_data/Control_1/genes.tsv'\n",
    "filename_barcodes_Control_1 = './../filtered_data/Control_1/barcodes.tsv'\n",
    "\n",
    "adata_Control_1 = sc.read(filename_data_Control_1, cache=True).transpose()\n",
    "adata_Control_1.var_names = np.genfromtxt(filename_genes_Control_1, dtype=str)[:, 1]\n",
    "adata_Control_1.obs_names = np.genfromtxt(filename_barcodes_Control_1, dtype=str)\n",
    "\n",
    "# raw data (all barcodes)\n",
    "filename_data_Control_1 = './../raw_data/Control_1/matrix.mtx'\n",
    "filename_genes_Control_1 = './../raw_data/Control_1/genes.tsv'\n",
    "filename_barcodes_Control_1 = './../raw_data/Control_1/barcodes.tsv'\n",
    "\n",
    "adata_Control_1_raw = sc.read(filename_data_Control_1, cache=True).transpose()\n",
    "adata_Control_1_raw.var_names = np.genfromtxt(filename_genes_Control_1, dtype=str)[:, 1]\n",
    "adata_Control_1_raw.obs_names = np.genfromtxt(filename_barcodes_Control_1, dtype=str)"
   ]
  },
  {
   "cell_type": "code",
   "execution_count": 10,
   "metadata": {
    "jupyter": {
     "outputs_hidden": false
    }
   },
   "outputs": [
    {
     "name": "stdout",
     "output_type": "stream",
     "text": [
      "3440\n",
      "filtered out 733840 cells that have less than 6604.0 counts\n",
      "filtered out 733248 cells that have less than 1000 genes expressed\n",
      "Variable names are not unique. To make them unique, call `.var_names_make_unique`.\n",
      "4047\n"
     ]
    }
   ],
   "source": [
    "adata_Control_1 = qc_metrics(adata_Control_1)\n",
    "# count threshold from Cellranger filtering (minimal total count)\n",
    "countmin = min(adata_Control_1.obs['n_counts'])\n",
    "del adata_Control_1\n",
    "adata_Control_1 = cell_filter(adata_Control_1_raw, countmin)\n",
    "del adata_Control_1_raw"
   ]
  },
  {
   "cell_type": "code",
   "execution_count": 11,
   "metadata": {
    "jupyter": {
     "outputs_hidden": false
    }
   },
   "outputs": [
    {
     "name": "stdout",
     "output_type": "stream",
     "text": [
      "... writing an h5ad cache file to speedup reading next time\n",
      "Variable names are not unique. To make them unique, call `.var_names_make_unique`.\n",
      "--> This might be very slow. Consider passing `cache=True`, which enables much faster reading from a cache file.\n",
      "Variable names are not unique. To make them unique, call `.var_names_make_unique`.\n"
     ]
    }
   ],
   "source": [
    "# filtered data (cell barcodes defined by Cellranger)\n",
    "filename_data_Control_2 = './../filtered_data/Mutant_1/matrix.mtx'   #####two samples were exchanged \n",
    "filename_genes_Control_2 = './../filtered_data/Mutant_1/genes.tsv'\n",
    "filename_barcodes_Control_2 = './../filtered_data/Mutant_1/barcodes.tsv'\n",
    "\n",
    "adata_Control_2 = sc.read(filename_data_Control_2, cache=True).transpose()\n",
    "adata_Control_2.var_names = np.genfromtxt(filename_genes_Control_2, dtype=str)[:, 1]\n",
    "adata_Control_2.obs_names = np.genfromtxt(filename_barcodes_Control_2, dtype=str)\n",
    "\n",
    "\n",
    "# raw data (all barcodes)\n",
    "filename_data_Control_2 = './../raw_data/Mutant_1/matrix.mtx'   #####two samples were exchanged \n",
    "filename_genes_Control_2 = './../raw_data/Mutant_1/genes.tsv'\n",
    "filename_barcodes_Control_2 = './../raw_data/Mutant_1/barcodes.tsv'\n",
    "\n",
    "adata_Control_2_raw = sc.read(filename_data_Control_2).transpose()\n",
    "adata_Control_2_raw.var_names = np.genfromtxt(filename_genes_Control_2, dtype=str)[:, 1]\n",
    "adata_Control_2_raw.obs_names = np.genfromtxt(filename_barcodes_Control_2, dtype=str)"
   ]
  },
  {
   "cell_type": "code",
   "execution_count": 12,
   "metadata": {
    "jupyter": {
     "outputs_hidden": false
    }
   },
   "outputs": [
    {
     "name": "stdout",
     "output_type": "stream",
     "text": [
      "2940\n",
      "filtered out 734340 cells that have less than 5691.0 counts\n",
      "filtered out 733749 cells that have less than 1000 genes expressed\n",
      "Variable names are not unique. To make them unique, call `.var_names_make_unique`.\n",
      "3542\n"
     ]
    }
   ],
   "source": [
    "adata_Control_2 = qc_metrics(adata_Control_2)\n",
    "# count threshold from Cellranger filtering (minimal total count)\n",
    "countmin = min(adata_Control_2.obs['n_counts'])\n",
    "del adata_Control_2\n",
    "adata_Control_2 = cell_filter(adata_Control_2_raw, countmin)\n",
    "del adata_Control_2_raw"
   ]
  },
  {
   "cell_type": "code",
   "execution_count": 13,
   "metadata": {
    "jupyter": {
     "outputs_hidden": false
    },
    "run_control": {
     "marked": true
    }
   },
   "outputs": [
    {
     "name": "stdout",
     "output_type": "stream",
     "text": [
      "... writing an h5ad cache file to speedup reading next time\n",
      "Variable names are not unique. To make them unique, call `.var_names_make_unique`.\n",
      "... writing an h5ad cache file to speedup reading next time\n",
      "Variable names are not unique. To make them unique, call `.var_names_make_unique`.\n"
     ]
    }
   ],
   "source": [
    "# filtered data (cell barcodes defined by Cellranger)\n",
    "filename_data_Control_3_FVR = './../filtered_data/Control_3_FVR/matrix.mtx'\n",
    "filename_genes_Control_3_FVR = './../filtered_data/Control_3_FVR/genes.tsv'\n",
    "filename_barcodes_Control_3_FVR = './../filtered_data/Control_3_FVR/barcodes.tsv'\n",
    "\n",
    "adata_Control_3_FVR = sc.read(filename_data_Control_3_FVR, cache=True).transpose()\n",
    "adata_Control_3_FVR.var_names = np.genfromtxt(filename_genes_Control_3_FVR, dtype=str)[:, 1]\n",
    "adata_Control_3_FVR.obs_names = np.genfromtxt(filename_barcodes_Control_3_FVR, dtype=str)\n",
    "\n",
    "# raw data (all barcodes)\n",
    "filename_data_Control_3_FVR = './../raw_data/Control_3_FVR/matrix.mtx'\n",
    "filename_genes_Control_3_FVR = './../raw_data/Control_3_FVR/genes.tsv'\n",
    "filename_barcodes_Control_3_FVR = './../raw_data/Control_3_FVR/barcodes.tsv'\n",
    "\n",
    "adata_Control_3_FVR_raw = sc.read(filename_data_Control_3_FVR, cache=True).transpose()\n",
    "adata_Control_3_FVR_raw.var_names = np.genfromtxt(filename_genes_Control_3_FVR, dtype=str)[:, 1]\n",
    "adata_Control_3_FVR_raw.obs_names = np.genfromtxt(filename_barcodes_Control_3_FVR, dtype=str)"
   ]
  },
  {
   "cell_type": "code",
   "execution_count": 14,
   "metadata": {
    "jupyter": {
     "outputs_hidden": false
    }
   },
   "outputs": [
    {
     "name": "stdout",
     "output_type": "stream",
     "text": [
      "3766\n",
      "filtered out 733514 cells that have less than 10409.0 counts\n",
      "filtered out 732917 cells that have less than 1000 genes expressed\n",
      "Variable names are not unique. To make them unique, call `.var_names_make_unique`.\n",
      "4416\n"
     ]
    }
   ],
   "source": [
    "adata_Control_3_FVR = qc_metrics(adata_Control_3_FVR)\n",
    "# count threshold from Cellranger filtering (minimal total count)\n",
    "countmin = min(adata_Control_3_FVR.obs['n_counts'])\n",
    "del adata_Control_3_FVR\n",
    "adata_Control_3_FVR = cell_filter(adata_Control_3_FVR_raw, countmin)\n",
    "del adata_Control_3_FVR_raw"
   ]
  },
  {
   "cell_type": "code",
   "execution_count": 15,
   "metadata": {
    "jupyter": {
     "outputs_hidden": false
    }
   },
   "outputs": [
    {
     "name": "stdout",
     "output_type": "stream",
     "text": [
      "... writing an h5ad cache file to speedup reading next time\n",
      "Variable names are not unique. To make them unique, call `.var_names_make_unique`.\n",
      "... writing an h5ad cache file to speedup reading next time\n",
      "Variable names are not unique. To make them unique, call `.var_names_make_unique`.\n"
     ]
    }
   ],
   "source": [
    "# filtered data (cell barcodes defined by Cellranger)\n",
    "filename_data_Control_4_FVR = './../filtered_data/Mutant_3_FVR/matrix.mtx'  #####two samples were exchanged \n",
    "filename_genes_Control_4_FVR = './../filtered_data/Mutant_3_FVR/genes.tsv'\n",
    "filename_barcodes_Control_4_FVR = './../filtered_data/Mutant_3_FVR/barcodes.tsv'\n",
    "\n",
    "adata_Control_4_FVR = sc.read(filename_data_Control_4_FVR, cache=True).transpose()\n",
    "adata_Control_4_FVR.var_names = np.genfromtxt(filename_genes_Control_4_FVR, dtype=str)[:, 1]\n",
    "adata_Control_4_FVR.obs_names = np.genfromtxt(filename_barcodes_Control_4_FVR, dtype=str)\n",
    "\n",
    "# raw data (all barcodes)\n",
    "filename_data_Control_4_FVR = './../raw_data/Mutant_3_FVR/matrix.mtx'  #####two samples were exchanged \n",
    "filename_genes_Control_4_FVR = './../raw_data/Mutant_3_FVR/genes.tsv'\n",
    "filename_barcodes_Control_4_FVR = './../raw_data//Mutant_3_FVR/barcodes.tsv'\n",
    "\n",
    "adata_Control_4_FVR_raw = sc.read(filename_data_Control_4_FVR, cache=True).transpose()\n",
    "adata_Control_4_FVR_raw.var_names = np.genfromtxt(filename_genes_Control_4_FVR, dtype=str)[:, 1]\n",
    "adata_Control_4_FVR_raw.obs_names = np.genfromtxt(filename_barcodes_Control_4_FVR, dtype=str)"
   ]
  },
  {
   "cell_type": "code",
   "execution_count": 16,
   "metadata": {
    "jupyter": {
     "outputs_hidden": false
    }
   },
   "outputs": [
    {
     "name": "stdout",
     "output_type": "stream",
     "text": [
      "4566\n",
      "filtered out 732714 cells that have less than 8212.0 counts\n",
      "filtered out 731954 cells that have less than 1000 genes expressed\n",
      "Variable names are not unique. To make them unique, call `.var_names_make_unique`.\n",
      "5338\n"
     ]
    }
   ],
   "source": [
    "adata_Control_4_FVR = qc_metrics(adata_Control_4_FVR)\n",
    "# count threshold from Cellranger filtering (minimal total count)\n",
    "countmin = min(adata_Control_4_FVR.obs['n_counts'])\n",
    "del adata_Control_4_FVR\n",
    "adata_Control_4_FVR = cell_filter(adata_Control_4_FVR_raw,countmin)\n",
    "del adata_Control_4_FVR_raw"
   ]
  },
  {
   "cell_type": "code",
   "execution_count": 17,
   "metadata": {
    "jupyter": {
     "outputs_hidden": false
    }
   },
   "outputs": [
    {
     "name": "stdout",
     "output_type": "stream",
     "text": [
      "... writing an h5ad cache file to speedup reading next time\n",
      "Variable names are not unique. To make them unique, call `.var_names_make_unique`.\n",
      "--> This might be very slow. Consider passing `cache=True`, which enables much faster reading from a cache file.\n",
      "Variable names are not unique. To make them unique, call `.var_names_make_unique`.\n"
     ]
    }
   ],
   "source": [
    "# filtered data (cell barcodes defined by Cellranger)\n",
    "filename_data_Mutant_1 = './../filtered_data/Control_2/matrix.mtx' #####two samples were exchanged \n",
    "filename_genes_Mutant_1 = './../filtered_data/Control_2/genes.tsv'\n",
    "filename_barcodes_Mutant_1 = './../filtered_data/Control_2/barcodes.tsv'\n",
    "\n",
    "adata_Mutant_1 = sc.read(filename_data_Mutant_1, cache=True).transpose()\n",
    "adata_Mutant_1.var_names = np.genfromtxt(filename_genes_Mutant_1, dtype=str)[:, 1]\n",
    "adata_Mutant_1.obs_names = np.genfromtxt(filename_barcodes_Mutant_1, dtype=str)\n",
    "\n",
    "# raw data (all barcodes)\n",
    "filename_data_Mutant_1 = './../raw_data/Control_2/matrix.mtx' #####two samples were exchanged \n",
    "filename_genes_Mutant_1 = './../raw_data/Control_2/genes.tsv'\n",
    "filename_barcodes_Mutant_1 = './../raw_data/Control_2/barcodes.tsv'\n",
    "\n",
    "adata_Mutant_1_raw = sc.read(filename_data_Mutant_1, cache=False).transpose()\n",
    "adata_Mutant_1_raw.var_names = np.genfromtxt(filename_genes_Mutant_1, dtype=str)[:, 1]\n",
    "adata_Mutant_1_raw.obs_names = np.genfromtxt(filename_barcodes_Mutant_1, dtype=str)"
   ]
  },
  {
   "cell_type": "code",
   "execution_count": 18,
   "metadata": {
    "jupyter": {
     "outputs_hidden": false
    }
   },
   "outputs": [
    {
     "name": "stdout",
     "output_type": "stream",
     "text": [
      "3386\n",
      "filtered out 733894 cells that have less than 8673.0 counts\n",
      "filtered out 733346 cells that have less than 1000 genes expressed\n",
      "Variable names are not unique. To make them unique, call `.var_names_make_unique`.\n",
      "3949\n"
     ]
    }
   ],
   "source": [
    "### QC and cell filtering\n",
    "adata_Mutant_1 = qc_metrics(adata_Mutant_1)\n",
    "# count threshold from Cellranger filtering (minimal total count)\n",
    "countmin = min(adata_Mutant_1.obs['n_counts'])\n",
    "del adata_Mutant_1\n",
    "adata_Mutant_1 = cell_filter(adata_Mutant_1_raw, countmin)\n",
    "del adata_Mutant_1_raw"
   ]
  },
  {
   "cell_type": "code",
   "execution_count": 19,
   "metadata": {
    "jupyter": {
     "outputs_hidden": false
    }
   },
   "outputs": [
    {
     "name": "stdout",
     "output_type": "stream",
     "text": [
      "... writing an h5ad cache file to speedup reading next time\n",
      "Variable names are not unique. To make them unique, call `.var_names_make_unique`.\n",
      "... writing an h5ad cache file to speedup reading next time\n",
      "Variable names are not unique. To make them unique, call `.var_names_make_unique`.\n"
     ]
    }
   ],
   "source": [
    "# filtered data (cell barcodes defined by Cellranger)\n",
    "filename_data_Mutant_2 = './../filtered_data/Mutant_2/matrix.mtx'   \n",
    "filename_genes_Mutant_2 = './../filtered_data/Mutant_2/genes.tsv'\n",
    "filename_barcodes_Mutant_2 = './../filtered_data/Mutant_2/barcodes.tsv'\n",
    "\n",
    "adata_Mutant_2 = sc.read(filename_data_Mutant_2, cache=True).transpose()\n",
    "adata_Mutant_2.var_names = np.genfromtxt(filename_genes_Mutant_2, dtype=str)[:, 1]\n",
    "adata_Mutant_2.obs_names = np.genfromtxt(filename_barcodes_Mutant_2, dtype=str)\n",
    "\n",
    "# raw data (all barcodes)\n",
    "filename_data_Mutant_2 = './../raw_data/Mutant_2/matrix.mtx'   \n",
    "filename_genes_Mutant_2 = './../raw_data/Mutant_2/genes.tsv'\n",
    "filename_barcodes_Mutant_2 = './../raw_data/Mutant_2/barcodes.tsv'\n",
    "\n",
    "adata_Mutant_2_raw = sc.read(filename_data_Mutant_2, cache=True).transpose()\n",
    "adata_Mutant_2_raw.var_names = np.genfromtxt(filename_genes_Mutant_2, dtype=str)[:, 1]\n",
    "adata_Mutant_2_raw.obs_names = np.genfromtxt(filename_barcodes_Mutant_2, dtype=str)"
   ]
  },
  {
   "cell_type": "code",
   "execution_count": 20,
   "metadata": {
    "jupyter": {
     "outputs_hidden": false
    }
   },
   "outputs": [
    {
     "name": "stdout",
     "output_type": "stream",
     "text": [
      "3611\n",
      "filtered out 733669 cells that have less than 7461.0 counts\n",
      "filtered out 733119 cells that have less than 1000 genes expressed\n",
      "Variable names are not unique. To make them unique, call `.var_names_make_unique`.\n",
      "4167\n"
     ]
    }
   ],
   "source": [
    "### QC and cell filtering\n",
    "adata_Mutant_2 = qc_metrics(adata_Mutant_2)\n",
    "# count threshold from Cellranger filtering (minimal total count)\n",
    "countmin = min(adata_Mutant_2.obs['n_counts'])\n",
    "del adata_Mutant_2\n",
    "adata_Mutant_2 = cell_filter(adata_Mutant_2_raw, countmin)\n",
    "del adata_Mutant_2_raw"
   ]
  },
  {
   "cell_type": "code",
   "execution_count": 21,
   "metadata": {
    "jupyter": {
     "outputs_hidden": false
    }
   },
   "outputs": [
    {
     "name": "stdout",
     "output_type": "stream",
     "text": [
      "... writing an h5ad cache file to speedup reading next time\n",
      "Variable names are not unique. To make them unique, call `.var_names_make_unique`.\n",
      "... writing an h5ad cache file to speedup reading next time\n",
      "Variable names are not unique. To make them unique, call `.var_names_make_unique`.\n"
     ]
    }
   ],
   "source": [
    "# filtered data (cell barcodes defined by Cellranger)\n",
    "filename_data_Mutant_3_FVR = './../filtered_data/Control_4_FVR/matrix.mtx'  #####two samples were exchanged \n",
    "filename_genes_Mutant_3_FVR = './../filtered_data/Control_4_FVR/genes.tsv'\n",
    "filename_barcodes_Mutant_3_FVR = './../filtered_data/Control_4_FVR/barcodes.tsv'\n",
    "\n",
    "adata_Mutant_3_FVR = sc.read(filename_data_Mutant_3_FVR, cache=True).transpose()\n",
    "adata_Mutant_3_FVR.var_names = np.genfromtxt(filename_genes_Mutant_3_FVR, dtype=str)[:, 1]\n",
    "adata_Mutant_3_FVR.obs_names = np.genfromtxt(filename_barcodes_Mutant_3_FVR, dtype=str)\n",
    "\n",
    "# raw data (all barcodes)\n",
    "filename_data_Mutant_3_FVR = './../raw_data/Control_4_FVR/matrix.mtx'  #####two samples were exchanged \n",
    "filename_genes_Mutant_3_FVR = './../raw_data/Control_4_FVR/genes.tsv'\n",
    "filename_barcodes_Mutant_3_FVR = './../raw_data/Control_4_FVR/barcodes.tsv'\n",
    "\n",
    "adata_Mutant_3_FVR_raw = sc.read(filename_data_Mutant_3_FVR, cache=True).transpose()\n",
    "adata_Mutant_3_FVR_raw.var_names = np.genfromtxt(filename_genes_Mutant_3_FVR, dtype=str)[:, 1]\n",
    "adata_Mutant_3_FVR_raw.obs_names = np.genfromtxt(filename_barcodes_Mutant_3_FVR, dtype=str)"
   ]
  },
  {
   "cell_type": "code",
   "execution_count": 22,
   "metadata": {
    "jupyter": {
     "outputs_hidden": false
    }
   },
   "outputs": [
    {
     "name": "stdout",
     "output_type": "stream",
     "text": [
      "3153\n",
      "filtered out 734127 cells that have less than 11376.0 counts\n",
      "filtered out 733307 cells that have less than 1000 genes expressed\n",
      "Variable names are not unique. To make them unique, call `.var_names_make_unique`.\n",
      "3978\n"
     ]
    }
   ],
   "source": [
    "### QC and cell filtering\n",
    "adata_Mutant_3_FVR = qc_metrics(adata_Mutant_3_FVR)\n",
    "# count threshold from Cellranger filtering (minimal total count)\n",
    "countmin = min(adata_Mutant_3_FVR.obs['n_counts'])\n",
    "del adata_Mutant_3_FVR\n",
    "adata_Mutant_3_FVR = cell_filter(adata_Mutant_3_FVR_raw,countmin)\n",
    "del adata_Mutant_3_FVR_raw"
   ]
  },
  {
   "cell_type": "code",
   "execution_count": 23,
   "metadata": {
    "jupyter": {
     "outputs_hidden": false
    }
   },
   "outputs": [
    {
     "name": "stdout",
     "output_type": "stream",
     "text": [
      "... writing an h5ad cache file to speedup reading next time\n",
      "Variable names are not unique. To make them unique, call `.var_names_make_unique`.\n",
      "... writing an h5ad cache file to speedup reading next time\n",
      "Variable names are not unique. To make them unique, call `.var_names_make_unique`.\n"
     ]
    }
   ],
   "source": [
    "# filtered data (cell barcodes defined by Cellranger)\n",
    "filename_data_Mutant_4_FVR = './../filtered_data/Mutant_4_FVR/matrix.mtx'\n",
    "filename_genes_Mutant_4_FVR = './../filtered_data/Mutant_4_FVR/genes.tsv'\n",
    "filename_barcodes_Mutant_4_FVR = './../filtered_data/Mutant_4_FVR/barcodes.tsv'\n",
    "\n",
    "adata_Mutant_4_FVR = sc.read(filename_data_Mutant_4_FVR, cache=True).transpose()\n",
    "adata_Mutant_4_FVR.var_names = np.genfromtxt(filename_genes_Mutant_4_FVR, dtype=str)[:, 1]\n",
    "adata_Mutant_4_FVR.obs_names = np.genfromtxt(filename_barcodes_Mutant_4_FVR, dtype=str)\n",
    "\n",
    "# raw data (all barcodes)\n",
    "filename_data_Mutant_4_FVR = './../raw_data/Mutant_4_FVR/matrix.mtx'\n",
    "filename_genes_Mutant_4_FVR = './../raw_data/Mutant_4_FVR/genes.tsv'\n",
    "filename_barcodes_Mutant_4_FVR = './../raw_data/Mutant_4_FVR/barcodes.tsv'\n",
    "\n",
    "adata_Mutant_4_FVR_raw = sc.read(filename_data_Mutant_4_FVR, cache=True).transpose()\n",
    "adata_Mutant_4_FVR_raw.var_names = np.genfromtxt(filename_genes_Mutant_4_FVR, dtype=str)[:, 1]\n",
    "adata_Mutant_4_FVR_raw.obs_names = np.genfromtxt(filename_barcodes_Mutant_4_FVR, dtype=str)"
   ]
  },
  {
   "cell_type": "code",
   "execution_count": 24,
   "metadata": {
    "jupyter": {
     "outputs_hidden": false
    }
   },
   "outputs": [
    {
     "name": "stdout",
     "output_type": "stream",
     "text": [
      "3561\n",
      "filtered out 733719 cells that have less than 12290.0 counts\n",
      "filtered out 732677 cells that have less than 1000 genes expressed\n",
      "Variable names are not unique. To make them unique, call `.var_names_make_unique`.\n",
      "4608\n"
     ]
    }
   ],
   "source": [
    "### QC and cell filtering\n",
    "adata_Mutant_4_FVR = qc_metrics(adata_Mutant_4_FVR)\n",
    "# count threshold from Cellranger filtering (minimal total count)\n",
    "countmin = min(adata_Mutant_4_FVR.obs['n_counts'])\n",
    "del adata_Mutant_4_FVR\n",
    "adata_Mutant_4_FVR = cell_filter(adata_Mutant_4_FVR_raw, countmin)\n",
    "del adata_Mutant_4_FVR_raw"
   ]
  },
  {
   "cell_type": "code",
   "execution_count": 25,
   "metadata": {
    "jupyter": {
     "outputs_hidden": false
    }
   },
   "outputs": [
    {
     "name": "stdout",
     "output_type": "stream",
     "text": [
      "... writing an h5ad cache file to speedup reading next time\n",
      "Variable names are not unique. To make them unique, call `.var_names_make_unique`.\n"
     ]
    },
    {
     "name": "stderr",
     "output_type": "stream",
     "text": [
      "/Users/Maren.Buettner/miniconda3/lib/python3.6/site-packages/ipykernel_launcher.py:8: DeprecationWarning: Use obs_names instead of smp_names, smp_names will be removed in the future.\n",
      "  \n"
     ]
    },
    {
     "name": "stdout",
     "output_type": "stream",
     "text": [
      "... writing an h5ad cache file to speedup reading next time\n",
      "Variable names are not unique. To make them unique, call `.var_names_make_unique`.\n"
     ]
    }
   ],
   "source": [
    "# filtered data (cell barcodes defined by Cellranger)\n",
    "filename_data_FVR = './../filtered_data/Control_6/matrix.mtx'\n",
    "filename_genes_FVR = './../filtered_data/Control_6/genes.tsv'\n",
    "filename_barcodes_FVR = './../filtered_data/Control_6/barcodes.tsv'\n",
    "\n",
    "adata_FVR = sc.read(filename_data_FVR, cache=True).transpose()\n",
    "adata_FVR.var_names = np.genfromtxt(filename_genes_FVR, dtype=str)[:, 1]\n",
    "adata_FVR.smp_names = np.genfromtxt(filename_barcodes_FVR, dtype=str)\n",
    "\n",
    "# raw data (all barcodes)\n",
    "filename_data_FVR = './../raw_data/Control_6/matrix.mtx'\n",
    "filename_genes_FVR = './../raw_data/Control_6/genes.tsv'\n",
    "filename_barcodes_FVR = './../raw_data/Control_6/barcodes.tsv'\n",
    "\n",
    "adata_FVR_raw = sc.read(filename_data_FVR, cache=True).transpose()\n",
    "adata_FVR_raw.var_names = np.genfromtxt(filename_genes_FVR, dtype=str)[:, 1]\n",
    "adata_FVR_raw.obs_names = np.genfromtxt(filename_barcodes_FVR, dtype=str)"
   ]
  },
  {
   "cell_type": "code",
   "execution_count": 26,
   "metadata": {
    "jupyter": {
     "outputs_hidden": false
    }
   },
   "outputs": [
    {
     "name": "stdout",
     "output_type": "stream",
     "text": [
      "6041\n",
      "filtered out 731239 cells that have less than 8784.0 counts\n",
      "filtered out 729720 cells that have less than 1000 genes expressed\n",
      "Variable names are not unique. To make them unique, call `.var_names_make_unique`.\n",
      "7574\n"
     ]
    }
   ],
   "source": [
    "### QC and cell filtering\n",
    "adata_FVR = qc_metrics(adata_FVR)\n",
    "# count threshold from Cellranger filtering (minimal total count)\n",
    "countmin = min(adata_FVR.obs['n_counts'])\n",
    "del adata_FVR\n",
    "adata_Control_6 = cell_filter(adata_FVR_raw, countmin)\n",
    "del adata_FVR_raw"
   ]
  },
  {
   "cell_type": "markdown",
   "metadata": {},
   "source": [
    "Comment: `Control_7_FVR_only` contains about twice as much cells as expected. The reason is that the fastq-files of both `Control_5_FVR` and `Control_7_FVR` have been aggregated into one file. "
   ]
  },
  {
   "cell_type": "code",
   "execution_count": 27,
   "metadata": {},
   "outputs": [
    {
     "name": "stdout",
     "output_type": "stream",
     "text": [
      "... writing an h5ad cache file to speedup reading next time\n",
      "Variable names are not unique. To make them unique, call `.var_names_make_unique`.\n",
      "... writing an h5ad cache file to speedup reading next time\n",
      "Variable names are not unique. To make them unique, call `.var_names_make_unique`.\n"
     ]
    }
   ],
   "source": [
    "# filtered data (cell barcodes defined by Cellranger)\n",
    "filename_data_FVR = './../filtered_data/Control_5_FVR/matrix.mtx'\n",
    "filename_genes_FVR = './../filtered_data/Control_5_FVR/genes.tsv'\n",
    "filename_barcodes_FVR = './../filtered_data/Control_5_FVR/barcodes.tsv'\n",
    "\n",
    "adata_FVR = sc.read(filename_data_FVR, cache=True).transpose()\n",
    "adata_FVR.var_names = np.genfromtxt(filename_genes_FVR, dtype=str)[:, 1]\n",
    "adata_FVR.obs_names = np.genfromtxt(filename_barcodes_FVR, dtype=str)\n",
    "\n",
    "\n",
    "# raw data (all barcodes)\n",
    "filename_data_FVR = './../raw_data/Control_5_FVR/matrix.mtx'\n",
    "filename_genes_FVR = './../raw_data/Control_5_FVR/genes.tsv'\n",
    "filename_barcodes_FVR = './../raw_data/Control_5_FVR/barcodes.tsv'\n",
    "\n",
    "adata_FVR_raw = sc.read(filename_data_FVR, cache=True).transpose()\n",
    "adata_FVR_raw.var_names = np.genfromtxt(filename_genes_FVR, dtype=str)[:, 1]\n",
    "adata_FVR_raw.obs_names = np.genfromtxt(filename_barcodes_FVR, dtype=str)"
   ]
  },
  {
   "cell_type": "code",
   "execution_count": 28,
   "metadata": {
    "jupyter": {
     "outputs_hidden": false
    }
   },
   "outputs": [
    {
     "name": "stdout",
     "output_type": "stream",
     "text": [
      "7802\n",
      "filtered out 729478 cells that have less than 7078.0 counts\n",
      "filtered out 729397 cells that have less than 1000 genes expressed\n",
      "Variable names are not unique. To make them unique, call `.var_names_make_unique`.\n",
      "8906\n"
     ]
    }
   ],
   "source": [
    "### QC and cell filtering\n",
    "adata_FVR = qc_metrics(adata_FVR)\n",
    "# count threshold from Cellranger filtering (minimal total count)\n",
    "countmin = min(adata_FVR.obs['n_counts'])\n",
    "del adata_FVR\n",
    "adata_Control_5_FVR = cell_filter(adata_FVR_raw,countmin)\n"
   ]
  },
  {
   "cell_type": "code",
   "execution_count": 29,
   "metadata": {},
   "outputs": [
    {
     "name": "stdout",
     "output_type": "stream",
     "text": [
      "... writing an h5ad cache file to speedup reading next time\n",
      "Variable names are not unique. To make them unique, call `.var_names_make_unique`.\n",
      "... writing an h5ad cache file to speedup reading next time\n",
      "Variable names are not unique. To make them unique, call `.var_names_make_unique`.\n"
     ]
    }
   ],
   "source": [
    "# filtered data (cell barcodes defined by Cellranger)\n",
    "filename_data_FVR_only = './../filtered_data/Control_7_FVR_only/matrix.mtx'\n",
    "filename_genes_FVR_only = './../filtered_data/Control_7_FVR_only/genes.tsv'\n",
    "filename_barcodes_FVR_only = './../filtered_data/Control_7_FVR_only/barcodes.tsv'\n",
    "\n",
    "adata_FVR_only = sc.read(filename_data_FVR_only, cache=True).transpose()\n",
    "adata_FVR_only.var_names = np.genfromtxt(filename_genes_FVR_only, dtype=str)[:, 1]\n",
    "adata_FVR_only.obs_names = np.genfromtxt(filename_barcodes_FVR_only, dtype=str)\n",
    "\n",
    "# raw data (all barcodes)\n",
    "filename_data_FVR_only = './../raw_data/Control_7_FVR_only/matrix.mtx'\n",
    "filename_genes_FVR_only = './../raw_data/Control_7_FVR_only/genes.tsv'\n",
    "filename_barcodes_FVR_only = './../raw_data/Control_7_FVR_only/barcodes.tsv'\n",
    "\n",
    "adata_FVR_only_raw = sc.read(filename_data_FVR_only, cache=True).transpose()\n",
    "adata_FVR_only_raw.var_names = np.genfromtxt(filename_genes_FVR_only, dtype=str)[:, 1]\n",
    "adata_FVR_only_raw.obs_names = np.genfromtxt(filename_barcodes_FVR_only, dtype=str)"
   ]
  },
  {
   "cell_type": "code",
   "execution_count": 30,
   "metadata": {
    "jupyter": {
     "outputs_hidden": false
    }
   },
   "outputs": [
    {
     "name": "stdout",
     "output_type": "stream",
     "text": [
      "15948\n",
      "filtered out 721332 cells that have less than 7298.0 counts\n",
      "filtered out 724800 cells that have less than 1000 genes expressed\n",
      "Variable names are not unique. To make them unique, call `.var_names_make_unique`.\n",
      "17333\n"
     ]
    }
   ],
   "source": [
    "### QC and cell filtering\n",
    "adata_FVR_only = qc_metrics(adata_FVR_only)\n",
    "# count threshold from Cellranger filtering (minimal total count)\n",
    "countmin = min(adata_FVR_only.obs['n_counts'])\n",
    "del adata_FVR_only\n",
    "adata_Control_7_FVR_only = cell_filter(adata_FVR_only_raw,countmin)"
   ]
  },
  {
   "cell_type": "code",
   "execution_count": 31,
   "metadata": {},
   "outputs": [
    {
     "name": "stdout",
     "output_type": "stream",
     "text": [
      "7298.0\n"
     ]
    }
   ],
   "source": [
    "print(countmin)"
   ]
  },
  {
   "cell_type": "markdown",
   "metadata": {},
   "source": [
    "Check the number of duplicated barcodes."
   ]
  },
  {
   "cell_type": "code",
   "execution_count": 32,
   "metadata": {},
   "outputs": [],
   "source": [
    "barcodes_list = {}\n",
    "barcodes_list['Control_5_FVR'] = adata_Control_5_FVR.obs_names.values\n",
    "barcodes_list['Control_7_FVR_only'] = adata_Control_7_FVR_only.obs_names.values"
   ]
  },
  {
   "cell_type": "code",
   "execution_count": 33,
   "metadata": {},
   "outputs": [],
   "source": [
    "barcodes_dup = np.intersect1d(barcodes_list['Control_5_FVR'], barcodes_list['Control_7_FVR_only'])"
   ]
  },
  {
   "cell_type": "code",
   "execution_count": 34,
   "metadata": {},
   "outputs": [
    {
     "data": {
      "text/plain": [
       "8898"
      ]
     },
     "execution_count": 34,
     "metadata": {},
     "output_type": "execute_result"
    }
   ],
   "source": [
    "len(barcodes_dup)"
   ]
  },
  {
   "cell_type": "markdown",
   "metadata": {},
   "source": [
    "Plot library size relation of those two samples (using the duplicate barcodes)."
   ]
  },
  {
   "cell_type": "code",
   "execution_count": 35,
   "metadata": {},
   "outputs": [
    {
     "name": "stdout",
     "output_type": "stream",
     "text": [
      "Variable names are not unique. To make them unique, call `.var_names_make_unique`.\n",
      "Variable names are not unique. To make them unique, call `.var_names_make_unique`.\n",
      "Variable names are not unique. To make them unique, call `.var_names_make_unique`.\n",
      "Variable names are not unique. To make them unique, call `.var_names_make_unique`.\n"
     ]
    }
   ],
   "source": [
    "adata_Control_5_FVR.obs['n_counts'] = np.sum(adata_Control_5_FVR.X, axis=1).A1\n",
    "adata_Control_7_FVR_only.obs['n_counts'] = np.sum(adata_Control_7_FVR_only.X, axis=1).A1"
   ]
  },
  {
   "cell_type": "code",
   "execution_count": 36,
   "metadata": {},
   "outputs": [
    {
     "data": {
      "image/png": "[encoded data removed]",
      "text/plain": [
       "<Figure size 432x288 with 1 Axes>"
      ]
     },
     "metadata": {
      "needs_background": "light"
     },
     "output_type": "display_data"
    }
   ],
   "source": [
    "pl.scatter(x=adata_Control_5_FVR[np.in1d(adata_Control_5_FVR.obs_names, barcodes_dup)].obs['n_counts'], \n",
    "           y = adata_Control_7_FVR_only[np.in1d(adata_Control_7_FVR_only.obs_names, barcodes_dup)].obs['n_counts'])\n",
    "pl.title('number of total counts')\n",
    "pl.xlabel('Control_5_FVR')\n",
    "pl.ylabel('Control_7_FVR_only')\n",
    "pl.show()"
   ]
  },
  {
   "cell_type": "markdown",
   "metadata": {},
   "source": [
    "We observe that most duplicated barcodes are have exactly the same number of total counts. However, some show a higher total count in `Control_7_FVR_only`, but not in `Control_5_FVR`. This can be explained by an expected random barcode overlap of 1-2% for any two unrelated samples - therefore, cells whose total counts is not exactly the same in both samples, are two different cells with the same barcode.\n",
    "In order to mend the issue that `Control_7_FVR_only` also contains cells from `Control_5_FVR`, we subtract the raw count matrix of `Control_5_FVR` from the raw count matrix of `Control_7_FVR_only`."
   ]
  },
  {
   "cell_type": "code",
   "execution_count": 37,
   "metadata": {},
   "outputs": [
    {
     "data": {
      "text/plain": [
       "Index(['AAACCTGAGAAACCAT-1', 'AAACCTGAGAAACCGC-1', 'AAACCTGAGAAACCTA-1',\n",
       "       'AAACCTGAGAAACGAG-1', 'AAACCTGAGAAACGCC-1', 'AAACCTGAGAAAGTGG-1',\n",
       "       'AAACCTGAGAACAACT-1', 'AAACCTGAGAACAATC-1', 'AAACCTGAGAACTCGG-1',\n",
       "       'AAACCTGAGAACTGTA-1',\n",
       "       ...\n",
       "       'TTTGTCATCTTGGGTA-1', 'TTTGTCATCTTGTACT-1', 'TTTGTCATCTTGTATC-1',\n",
       "       'TTTGTCATCTTGTCAT-1', 'TTTGTCATCTTGTTTG-1', 'TTTGTCATCTTTACAC-1',\n",
       "       'TTTGTCATCTTTACGT-1', 'TTTGTCATCTTTAGGG-1', 'TTTGTCATCTTTAGTC-1',\n",
       "       'TTTGTCATCTTTCCTC-1'],\n",
       "      dtype='object', length=737280)"
      ]
     },
     "execution_count": 37,
     "metadata": {},
     "output_type": "execute_result"
    }
   ],
   "source": [
    "adata_FVR_only_raw.obs_names"
   ]
  },
  {
   "cell_type": "code",
   "execution_count": 38,
   "metadata": {},
   "outputs": [
    {
     "data": {
      "text/plain": [
       "737280"
      ]
     },
     "execution_count": 38,
     "metadata": {},
     "output_type": "execute_result"
    }
   ],
   "source": [
    "len(np.intersect1d(adata_FVR_raw.obs_names,adata_FVR_only_raw.obs_names))"
   ]
  },
  {
   "cell_type": "code",
   "execution_count": 39,
   "metadata": {},
   "outputs": [
    {
     "data": {
      "text/plain": [
       "737280"
      ]
     },
     "execution_count": 39,
     "metadata": {},
     "output_type": "execute_result"
    }
   ],
   "source": [
    "adata_FVR_raw.n_obs"
   ]
  },
  {
   "cell_type": "code",
   "execution_count": 40,
   "metadata": {},
   "outputs": [
    {
     "name": "stdout",
     "output_type": "stream",
     "text": [
      "  (19, 7)\t1.0\n",
      "  (19, 20)\t1.0\n",
      "  (19, 25)\t1.0\n",
      "  (19, 29)\t2.0\n",
      "  (19, 39)\t1.0\n",
      "  (19, 51)\t7.0\n",
      "  (19, 52)\t1.0\n",
      "  (19, 62)\t6.0\n",
      "  (19, 63)\t1.0\n",
      "  (19, 122)\t2.0\n",
      "  (19, 131)\t1.0\n",
      "  (19, 152)\t1.0\n",
      "  (19, 163)\t1.0\n",
      "  (19, 188)\t2.0\n",
      "  (37, 131)\t1.0\n",
      "  (54, 62)\t1.0\n",
      "  (78, 62)\t1.0\n",
      "  (112, 62)\t1.0\n",
      "  (128, 62)\t1.0\n",
      "  (156, 186)\t1.0\n",
      "  (156, 188)\t1.0\n",
      "  (161, 62)\t1.0\n",
      "  (170, 153)\t1.0\n",
      "  (172, 7)\t1.0\n",
      "  (172, 51)\t2.0\n",
      "  (172, 62)\t4.0\n",
      "  (182, 52)\t1.0\n",
      "  (182, 62)\t1.0\n",
      "  (186, 62)\t1.0\n"
     ]
    }
   ],
   "source": [
    "print(adata_FVR_only_raw.X[:200,:200])"
   ]
  },
  {
   "cell_type": "code",
   "execution_count": 41,
   "metadata": {},
   "outputs": [
    {
     "name": "stdout",
     "output_type": "stream",
     "text": [
      "  (19, 7)\t1.0\n",
      "  (19, 20)\t1.0\n",
      "  (19, 25)\t1.0\n",
      "  (19, 29)\t2.0\n",
      "  (19, 39)\t1.0\n",
      "  (19, 51)\t7.0\n",
      "  (19, 52)\t1.0\n",
      "  (19, 62)\t6.0\n",
      "  (19, 63)\t1.0\n",
      "  (19, 122)\t2.0\n",
      "  (19, 131)\t1.0\n",
      "  (19, 152)\t1.0\n",
      "  (19, 163)\t1.0\n",
      "  (19, 188)\t2.0\n",
      "  (37, 131)\t1.0\n",
      "  (78, 62)\t1.0\n",
      "  (112, 62)\t1.0\n",
      "  (128, 62)\t1.0\n",
      "  (156, 188)\t1.0\n",
      "  (161, 62)\t1.0\n",
      "  (170, 153)\t1.0\n",
      "  (172, 7)\t1.0\n",
      "  (172, 51)\t2.0\n",
      "  (172, 62)\t4.0\n",
      "  (182, 52)\t1.0\n",
      "  (182, 62)\t1.0\n"
     ]
    }
   ],
   "source": [
    "print(adata_FVR_raw.X[:200,:200])"
   ]
  },
  {
   "cell_type": "code",
   "execution_count": 42,
   "metadata": {},
   "outputs": [
    {
     "name": "stdout",
     "output_type": "stream",
     "text": [
      "Variable names are not unique. To make them unique, call `.var_names_make_unique`.\n"
     ]
    }
   ],
   "source": [
    "adata_tmp = adata_FVR_only_raw.copy()"
   ]
  },
  {
   "cell_type": "code",
   "execution_count": 43,
   "metadata": {},
   "outputs": [],
   "source": [
    "adata_tmp.X = adata_FVR_only_raw.X - adata_FVR_raw.X"
   ]
  },
  {
   "cell_type": "code",
   "execution_count": 44,
   "metadata": {},
   "outputs": [
    {
     "data": {
      "text/plain": [
       "AnnData object with n_obs × n_vars = 737280 × 27998 "
      ]
     },
     "execution_count": 44,
     "metadata": {},
     "output_type": "execute_result"
    }
   ],
   "source": [
    "adata_tmp"
   ]
  },
  {
   "cell_type": "code",
   "execution_count": 45,
   "metadata": {},
   "outputs": [
    {
     "name": "stdout",
     "output_type": "stream",
     "text": [
      "  (54, 62)\t1.0\n",
      "  (156, 186)\t1.0\n",
      "  (186, 62)\t1.0\n"
     ]
    }
   ],
   "source": [
    "print(adata_tmp.X[:200,:200])"
   ]
  },
  {
   "cell_type": "markdown",
   "metadata": {},
   "source": [
    "Check whether single values are lower than 0. "
   ]
  },
  {
   "cell_type": "code",
   "execution_count": 46,
   "metadata": {},
   "outputs": [
    {
     "name": "stdout",
     "output_type": "stream",
     "text": [
      "  (13, 27876)\tTrue\n",
      "  (19, 15076)\tTrue\n",
      "  (23, 12264)\tTrue\n",
      "  (261, 227)\tTrue\n",
      "  (261, 7876)\tTrue\n",
      "  (618, 15524)\tTrue\n",
      "  (796, 14935)\tTrue\n",
      "  (913, 12343)\tTrue\n",
      "  (913, 15516)\tTrue\n",
      "  (913, 16497)\tTrue\n",
      "  (927, 15525)\tTrue\n",
      "  (962, 27908)\tTrue\n",
      "  (1122, 25106)\tTrue\n",
      "  (1150, 15524)\tTrue\n",
      "  (1150, 17128)\tTrue\n",
      "  (1197, 11509)\tTrue\n",
      "  (1197, 15503)\tTrue\n",
      "  (1304, 15525)\tTrue\n",
      "  (1314, 15525)\tTrue\n",
      "  (1368, 15551)\tTrue\n",
      "  (1387, 19164)\tTrue\n",
      "  (1490, 15520)\tTrue\n",
      "  (1576, 7422)\tTrue\n",
      "  (1576, 15524)\tTrue\n",
      "  (1891, 15525)\tTrue\n",
      "  :\t:\n",
      "  (735962, 27228)\tTrue\n",
      "  (735985, 15525)\tTrue\n",
      "  (736105, 7557)\tTrue\n",
      "  (736147, 22932)\tTrue\n",
      "  (736191, 15525)\tTrue\n",
      "  (736276, 15525)\tTrue\n",
      "  (736431, 18103)\tTrue\n",
      "  (736465, 15525)\tTrue\n",
      "  (736517, 15504)\tTrue\n",
      "  (736596, 470)\tTrue\n",
      "  (736596, 5645)\tTrue\n",
      "  (736596, 11830)\tTrue\n",
      "  (736596, 12297)\tTrue\n",
      "  (736596, 18104)\tTrue\n",
      "  (736596, 24968)\tTrue\n",
      "  (736596, 24976)\tTrue\n",
      "  (736596, 27914)\tTrue\n",
      "  (736608, 14817)\tTrue\n",
      "  (736648, 13207)\tTrue\n",
      "  (736648, 27911)\tTrue\n",
      "  (736738, 15525)\tTrue\n",
      "  (736822, 22493)\tTrue\n",
      "  (736822, 23346)\tTrue\n",
      "  (736872, 25686)\tTrue\n",
      "  (736986, 1422)\tTrue\n"
     ]
    }
   ],
   "source": [
    "print(adata_tmp.X<0)"
   ]
  },
  {
   "cell_type": "code",
   "execution_count": 47,
   "metadata": {},
   "outputs": [
    {
     "data": {
      "text/plain": [
       "0.0"
      ]
     },
     "execution_count": 47,
     "metadata": {},
     "output_type": "execute_result"
    }
   ],
   "source": [
    "adata_FVR_only_raw.X[13, 27876]"
   ]
  },
  {
   "cell_type": "code",
   "execution_count": 48,
   "metadata": {},
   "outputs": [
    {
     "data": {
      "text/plain": [
       "1.0"
      ]
     },
     "execution_count": 48,
     "metadata": {},
     "output_type": "execute_result"
    }
   ],
   "source": [
    "adata_FVR_raw.X[13, 27876]"
   ]
  },
  {
   "cell_type": "markdown",
   "metadata": {},
   "source": [
    "CellRanger did not seem to aggregate all reads from the fastq files in the exact same way."
   ]
  },
  {
   "cell_type": "code",
   "execution_count": 49,
   "metadata": {},
   "outputs": [
    {
     "data": {
      "text/plain": [
       "-1.0     18320\n",
       "-2.0       408\n",
       "-3.0        85\n",
       "-4.0        38\n",
       "-5.0        23\n",
       "-6.0        14\n",
       "-7.0         7\n",
       "-8.0         7\n",
       "-11.0        6\n",
       "-9.0         4\n",
       "-10.0        3\n",
       "-15.0        3\n",
       "-13.0        2\n",
       "-19.0        2\n",
       "-20.0        1\n",
       "-12.0        1\n",
       "-22.0        1\n",
       "-57.0        1\n",
       "-17.0        1\n",
       "-18.0        1\n",
       "-33.0        1\n",
       "-40.0        1\n",
       "-21.0        1\n",
       "-60.0        1\n",
       "dtype: int64"
      ]
     },
     "execution_count": 49,
     "metadata": {},
     "output_type": "execute_result"
    }
   ],
   "source": [
    "pd.value_counts(adata_tmp.X[adata_tmp.X<0].A1)"
   ]
  },
  {
   "cell_type": "markdown",
   "metadata": {},
   "source": [
    "The difference is interesting, though we could not detect the source of it. We set all negative values to 0. "
   ]
  },
  {
   "cell_type": "code",
   "execution_count": 50,
   "metadata": {},
   "outputs": [],
   "source": [
    "adata_tmp.X[adata_tmp.X<0] = 0"
   ]
  },
  {
   "cell_type": "markdown",
   "metadata": {},
   "source": [
    "Filter `Control_7_FVR_only` based on `countmin` value determined by CellRanger. "
   ]
  },
  {
   "cell_type": "code",
   "execution_count": 51,
   "metadata": {},
   "outputs": [
    {
     "name": "stdout",
     "output_type": "stream",
     "text": [
      "filtered out 729007 cells that have less than 7298.0 counts\n",
      "filtered out 732682 cells that have less than 1000 genes expressed\n",
      "Variable names are not unique. To make them unique, call `.var_names_make_unique`.\n",
      "8511\n"
     ]
    }
   ],
   "source": [
    "adata_Control_7_FVR_only = cell_filter(adata_tmp,countmin)"
   ]
  },
  {
   "cell_type": "markdown",
   "metadata": {},
   "source": [
    "Make `var_names` unique in all anndata objects."
   ]
  },
  {
   "cell_type": "code",
   "execution_count": 52,
   "metadata": {},
   "outputs": [],
   "source": [
    "adata_Control_1.var_names_make_unique()\n",
    "adata_Control_2.var_names_make_unique() \n",
    "adata_Control_3_FVR.var_names_make_unique() \n",
    "adata_Control_4_FVR.var_names_make_unique()\n",
    "adata_Mutant_1.var_names_make_unique() \n",
    "adata_Mutant_2.var_names_make_unique() \n",
    "adata_Mutant_3_FVR.var_names_make_unique() \n",
    "adata_Mutant_4_FVR.var_names_make_unique()\n",
    "adata_Control_5_FVR.var_names_make_unique() \n",
    "adata_Control_6.var_names_make_unique() \n",
    "adata_Control_7_FVR_only.var_names_make_unique()"
   ]
  },
  {
   "cell_type": "markdown",
   "metadata": {},
   "source": [
    "Concatenate all samples."
   ]
  },
  {
   "cell_type": "code",
   "execution_count": 53,
   "metadata": {},
   "outputs": [
    {
     "name": "stderr",
     "output_type": "stream",
     "text": [
      "/Users/Maren.Buettner/miniconda3/lib/python3.6/site-packages/anndata/base.py:1806: FutureWarning: Sorting because non-concatenation axis is not aligned. A future version\n",
      "of pandas will change to not sort by default.\n",
      "\n",
      "To accept the future behavior, pass 'sort=False'.\n",
      "\n",
      "To retain the current behavior and silence the warning, pass 'sort=True'.\n",
      "\n",
      "  obs = pd.concat(out_obss)\n"
     ]
    }
   ],
   "source": [
    "adata_all=adata_Control_1.concatenate([adata_Control_2, adata_Control_3_FVR, adata_Control_4_FVR,\n",
    "                                       adata_Mutant_1, adata_Mutant_2, adata_Mutant_3_FVR, adata_Mutant_4_FVR,\n",
    "                                       adata_Control_5_FVR, adata_Control_6, adata_Control_7_FVR_only],\n",
    "                                       batch_key='sample',\n",
    "                                       batch_categories=['Control_1', 'Control_2', 'Control_3_FVR', 'Control_4_FVR',\n",
    "                                                         'Mutant_1', 'Mutant_2', 'Mutant_3_FVR', 'Mutant_4_FVR',\n",
    "                                                         'Control_5_FVR', 'Control_6', 'Control_7_FVR_only'])"
   ]
  },
  {
   "cell_type": "code",
   "execution_count": 54,
   "metadata": {},
   "outputs": [
    {
     "name": "stdout",
     "output_type": "stream",
     "text": [
      "filtered out 11585 genes that are detected in less than 20 cells\n"
     ]
    }
   ],
   "source": [
    "sc.pp.filter_genes(adata_all, min_cells=20)"
   ]
  },
  {
   "cell_type": "code",
   "execution_count": 55,
   "metadata": {
    "jupyter": {
     "outputs_hidden": false
    }
   },
   "outputs": [
    {
     "name": "stdout",
     "output_type": "stream",
     "text": [
      "59036\n"
     ]
    }
   ],
   "source": [
    "adata_all=qc_metrics(adata_all)"
   ]
  },
  {
   "cell_type": "code",
   "execution_count": 56,
   "metadata": {
    "jupyter": {
     "outputs_hidden": false
    }
   },
   "outputs": [
    {
     "data": {
      "text/plain": [
       "AnnData object with n_obs × n_vars = 59036 × 16413 \n",
       "    obs: 'n_counts', 'sample', 'percent_mito', 'percent_ribo', 'n_genes'\n",
       "    var: 'n_cells', 'mean', 'frac_zeros'"
      ]
     },
     "execution_count": 56,
     "metadata": {},
     "output_type": "execute_result"
    }
   ],
   "source": [
    "adata_all"
   ]
  },
  {
   "cell_type": "code",
   "execution_count": 57,
   "metadata": {},
   "outputs": [
    {
     "data": {
      "text/plain": [
       "Control_5_FVR         8906\n",
       "Control_7_FVR_only    8511\n",
       "Control_6             7574\n",
       "Control_4_FVR         5338\n",
       "Mutant_4_FVR          4608\n",
       "Control_3_FVR         4416\n",
       "Mutant_2              4167\n",
       "Control_1             4047\n",
       "Mutant_3_FVR          3978\n",
       "Mutant_1              3949\n",
       "Control_2             3542\n",
       "Name: sample, dtype: int64"
      ]
     },
     "execution_count": 57,
     "metadata": {},
     "output_type": "execute_result"
    }
   ],
   "source": [
    "adata_all.obs['sample'].value_counts()"
   ]
  },
  {
   "cell_type": "code",
   "execution_count": 58,
   "metadata": {},
   "outputs": [],
   "source": [
    "adata_all = adata_all[adata_all.obs['percent_mito'] < 0.1, :]"
   ]
  },
  {
   "cell_type": "code",
   "execution_count": 59,
   "metadata": {},
   "outputs": [],
   "source": [
    "sc.write('./../data/new_filter_all.h5', adata_all)"
   ]
  },
  {
   "cell_type": "markdown",
   "metadata": {},
   "source": [
    "# FOXA2 mice "
   ]
  },
  {
   "cell_type": "code",
   "execution_count": 60,
   "metadata": {},
   "outputs": [
    {
     "name": "stdout",
     "output_type": "stream",
     "text": [
      "... writing an h5ad cache file to speedup reading next time\n",
      "Variable names are not unique. To make them unique, call `.var_names_make_unique`.\n",
      "... writing an h5ad cache file to speedup reading next time\n",
      "Variable names are not unique. To make them unique, call `.var_names_make_unique`.\n",
      "... writing an h5ad cache file to speedup reading next time\n",
      "Variable names are not unique. To make them unique, call `.var_names_make_unique`.\n",
      "... writing an h5ad cache file to speedup reading next time\n",
      "Variable names are not unique. To make them unique, call `.var_names_make_unique`.\n",
      "... writing an h5ad cache file to speedup reading next time\n",
      "Variable names are not unique. To make them unique, call `.var_names_make_unique`.\n",
      "... writing an h5ad cache file to speedup reading next time\n",
      "Variable names are not unique. To make them unique, call `.var_names_make_unique`.\n"
     ]
    }
   ],
   "source": [
    "# filtered data (cell barcodes defined by Cellranger)\n",
    "filename_data_CD_1 = './../filtered_data/CD_1/matrix.mtx'\n",
    "filename_genes_CD_1 = './../filtered_data/CD_1/genes.tsv'\n",
    "filename_barcodes_CD_1 = './../filtered_data/CD_1/barcodes.tsv'\n",
    "\n",
    "adata_CD_1 = sc.read(filename_data_CD_1, cache=True).transpose()\n",
    "adata_CD_1.var_names = np.genfromtxt(filename_genes_CD_1, dtype=str)[:, 1]\n",
    "adata_CD_1.obs_names = np.genfromtxt(filename_barcodes_CD_1, dtype=str)\n",
    "\n",
    "adata_CD_1.var_names_make_unique\n",
    "\n",
    "# raw data (all barcodes)\n",
    "filename_data_CD_1 = './../raw_data/CD_1/matrix.mtx'\n",
    "filename_genes_CD_1 = './../raw_data/CD_1/genes.tsv'\n",
    "filename_barcodes_CD_1 = './../raw_data/CD_1/barcodes.tsv'\n",
    "\n",
    "adata_CD_1_raw = sc.read(filename_data_CD_1, cache=True).transpose()\n",
    "adata_CD_1_raw.var_names = np.genfromtxt(filename_genes_CD_1, dtype=str)[:, 1]\n",
    "adata_CD_1_raw.obs_names = np.genfromtxt(filename_barcodes_CD_1, dtype=str)\n",
    "\n",
    "adata_CD_1_raw.var_names_make_unique\n",
    "\n",
    "\n",
    "########\n",
    "\n",
    "\n",
    "# filtered data (cell barcodes defined by Cellranger)\n",
    "filename_data_CD_2 = './../filtered_data/CD_2/matrix.mtx'\n",
    "filename_genes_CD_2 = './../filtered_data/CD_2/genes.tsv'\n",
    "filename_barcodes_CD_2 = './../filtered_data/CD_2/barcodes.tsv'\n",
    "\n",
    "adata_CD_2 = sc.read(filename_data_CD_2, cache=True).transpose()\n",
    "adata_CD_2.var_names = np.genfromtxt(filename_genes_CD_2, dtype=str)[:, 1]\n",
    "adata_CD_2.obs_names = np.genfromtxt(filename_barcodes_CD_2, dtype=str)\n",
    "\n",
    "adata_CD_2.var_names_make_unique\n",
    "\n",
    "\n",
    "# raw data (all barcodes)\n",
    "filename_data_CD_2 = './../raw_data/CD_2/matrix.mtx'\n",
    "filename_genes_CD_2 = './../raw_data/CD_2/genes.tsv'\n",
    "filename_barcodes_CD_2 = './../raw_data/CD_2/barcodes.tsv'\n",
    "\n",
    "adata_CD_2_raw = sc.read(filename_data_CD_2, cache=True).transpose()\n",
    "adata_CD_2_raw.var_names = np.genfromtxt(filename_genes_CD_2, dtype=str)[:, 1]\n",
    "adata_CD_2_raw.obs_names = np.genfromtxt(filename_barcodes_CD_2, dtype=str)\n",
    "\n",
    "\n",
    "adata_CD_2_raw.var_names_make_unique()\n",
    "\n",
    "\n",
    "############\n",
    "\n",
    "# filtered data (cell barcodes defined by Cellranger)\n",
    "filename_data_CD_3 = './../filtered_data/CD_3/matrix.mtx'\n",
    "filename_genes_CD_3 = './../filtered_data/CD_3/genes.tsv'\n",
    "filename_barcodes_CD_3 = './../filtered_data/CD_3/barcodes.tsv'\n",
    "\n",
    "adata_CD_3 = sc.read(filename_data_CD_3, cache=True).transpose()\n",
    "adata_CD_3.var_names = np.genfromtxt(filename_genes_CD_3, dtype=str)[:, 1]\n",
    "adata_CD_3.obs_names = np.genfromtxt(filename_barcodes_CD_3, dtype=str)\n",
    "\n",
    "adata_CD_3.var_names_make_unique()\n",
    "\n",
    "\n",
    "# raw data (all barcodes)\n",
    "filename_data_CD_3 = './../raw_data/CD_3/matrix.mtx'\n",
    "filename_genes_CD_3 = './../raw_data/CD_3/genes.tsv'\n",
    "filename_barcodes_CD_3 = './../raw_data/CD_3/barcodes.tsv'\n",
    "\n",
    "adata_CD_3_raw = sc.read(filename_data_CD_3, cache=True).transpose()\n",
    "adata_CD_3_raw.var_names = np.genfromtxt(filename_genes_CD_3, dtype=str)[:, 1]\n",
    "adata_CD_3_raw.obs_names = np.genfromtxt(filename_barcodes_CD_3, dtype=str)\n",
    "adata_CD_3_raw.var_names_make_unique()"
   ]
  },
  {
   "cell_type": "code",
   "execution_count": 61,
   "metadata": {},
   "outputs": [
    {
     "name": "stdout",
     "output_type": "stream",
     "text": [
      "5083\n",
      "filtered out 732197 cells that have less than 3906.0 counts\n",
      "filtered out 731889 cells that have less than 1000 genes expressed\n",
      "Variable names are not unique. To make them unique, call `.var_names_make_unique`.\n",
      "5407\n",
      "Variable names are not unique. To make them unique, call `.var_names_make_unique`.\n",
      "Variable names are not unique. To make them unique, call `.var_names_make_unique`.\n",
      "5407\n",
      "Variable names are not unique. To make them unique, call `.var_names_make_unique`.\n",
      "Variable names are not unique. To make them unique, call `.var_names_make_unique`.\n",
      "5407\n"
     ]
    }
   ],
   "source": [
    "### QC and cell filtering\n",
    "adata_CD_1=qc_metrics(adata_CD_1)\n",
    "\n",
    "# count threshold from Cellranger filtering (minimal total count)\n",
    "countmin = min(adata_CD_1.obs['n_counts'])\n",
    "adata_CD_1_filt= cell_filter(adata_CD_1_raw,countmin)\n",
    "adata_CD_1_filt=qc_metrics(adata_CD_1_filt)\n",
    "\n",
    "adata_CD_1_filt = adata_CD_1_filt[adata_CD_1_filt.obs['percent_mito'] < 0.1, :]\n",
    "adata_CD_1_filt=qc_metrics(adata_CD_1_filt)"
   ]
  },
  {
   "cell_type": "code",
   "execution_count": 62,
   "metadata": {},
   "outputs": [
    {
     "name": "stdout",
     "output_type": "stream",
     "text": [
      "4824\n",
      "filtered out 732456 cells that have less than 5008.0 counts\n",
      "filtered out 731994 cells that have less than 1000 genes expressed\n",
      "5298\n",
      "5298\n",
      "5298\n"
     ]
    }
   ],
   "source": [
    "### QC and cell filtering\n",
    "adata_CD_2=qc_metrics(adata_CD_2)\n",
    "\n",
    "# count threshold from Cellranger filtering (minimal total count)\n",
    "countmin = min(adata_CD_2.obs['n_counts'])\n",
    "adata_CD_2_filt= cell_filter(adata_CD_2_raw,countmin)\n",
    "adata_CD_2_filt=qc_metrics(adata_CD_2_filt)\n",
    "\n",
    "adata_CD_2_filt = adata_CD_2_filt[adata_CD_2_filt.obs['percent_mito'] < 0.1, :]\n",
    "adata_CD_2_filt=qc_metrics(adata_CD_2_filt)"
   ]
  },
  {
   "cell_type": "code",
   "execution_count": 63,
   "metadata": {},
   "outputs": [
    {
     "name": "stdout",
     "output_type": "stream",
     "text": [
      "4731\n",
      "filtered out 732549 cells that have less than 4502.0 counts\n",
      "filtered out 732022 cells that have less than 1000 genes expressed\n",
      "5271\n",
      "5271\n",
      "5271\n"
     ]
    }
   ],
   "source": [
    "### QC and cell filtering\n",
    "adata_CD_3=qc_metrics(adata_CD_3)\n",
    "\n",
    "# count threshold from Cellranger filtering (minimal total count)\n",
    "countmin = min(adata_CD_3.obs['n_counts'])\n",
    "adata_CD_3_filt= cell_filter(adata_CD_3_raw,countmin)\n",
    "adata_CD_3_filt=qc_metrics(adata_CD_3_filt)\n",
    "\n",
    "adata_CD_3_filt = adata_CD_3_filt[adata_CD_3_filt.obs['percent_mito'] < 0.1, :]\n",
    "adata_CD_3_filt=qc_metrics(adata_CD_3_filt)"
   ]
  },
  {
   "cell_type": "code",
   "execution_count": 64,
   "metadata": {},
   "outputs": [],
   "source": [
    "adata_CD_1_filt.var_names_make_unique()\n",
    "adata_CD_2_filt.var_names_make_unique()\n",
    "adata_CD_3_filt.var_names_make_unique()"
   ]
  },
  {
   "cell_type": "code",
   "execution_count": 65,
   "metadata": {},
   "outputs": [],
   "source": [
    "adata_all=adata_CD_1_filt.concatenate([adata_CD_2_filt, adata_CD_3_filt],\n",
    "                                       batch_key='sample',\n",
    "                                       batch_categories=['CD_1', 'CD_2', 'CD_3'])"
   ]
  },
  {
   "cell_type": "code",
   "execution_count": 66,
   "metadata": {},
   "outputs": [
    {
     "name": "stdout",
     "output_type": "stream",
     "text": [
      "filtered out 13033 genes that are detected in less than 20 cells\n",
      "15976\n"
     ]
    }
   ],
   "source": [
    "sc.pp.filter_genes(adata_all, min_cells=20)\n",
    "adata_all=qc_metrics(adata_all)"
   ]
  },
  {
   "cell_type": "code",
   "execution_count": 67,
   "metadata": {},
   "outputs": [],
   "source": [
    "sc.write('./../data/control_only_new_filter_all_vers_1_4.h5',adata_all)"
   ]
  }
 ],
 "metadata": {
  "kernelspec": {
   "display_name": "Python 3",
   "language": "python",
   "name": "python3"
  },
  "language_info": {
   "codemirror_mode": {
    "name": "ipython",
    "version": 3
   },
   "file_extension": ".py",
   "mimetype": "text/x-python",
   "name": "python",
   "nbconvert_exporter": "python",
   "pygments_lexer": "ipython3",
   "version": "3.6.8"
  },
  "latex_envs": {
   "LaTeX_envs_menu_present": true,
   "bibliofile": "biblio.bib",
   "cite_by": "apalike",
   "current_citInitial": 1,
   "eqLabelWithNumbers": true,
   "eqNumInitial": 0,
   "hotkeys": {
    "equation": "Ctrl-E",
    "itemize": "Ctrl-I"
   },
   "labels_anchors": false,
   "latex_user_defs": false,
   "report_style_numbering": false,
   "user_envs_cfg": false
  },
  "nav_menu": {},
  "toc": {
   "colors": {
    "hover_highlight": "#DAA520",
    "running_highlight": "#FF0000",
    "selected_highlight": "#FFD700"
   },
   "moveMenuLeft": true,
   "nav_menu": {
    "height": "84.7159px",
    "width": "251.989px"
   },
   "navigate_menu": true,
   "number_sections": true,
   "sideBar": true,
   "threshold": 6,
   "toc_cell": false,
   "toc_section_display": "none",
   "toc_window_display": true
  },
  "toc_position": {
   "height": "689px",
   "left": "0px",
   "right": "1394.13px",
   "top": "110px",
   "width": "212px"
  }
 },
 "nbformat": 4,
 "nbformat_minor": 4
}
